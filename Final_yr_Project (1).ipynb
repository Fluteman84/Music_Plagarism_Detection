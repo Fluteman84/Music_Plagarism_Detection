{
  "nbformat": 4,
  "nbformat_minor": 0,
  "metadata": {
    "colab": {
      "provenance": []
    },
    "kernelspec": {
      "name": "python3",
      "display_name": "Python 3"
    },
    "language_info": {
      "name": "python"
    }
  },
  "cells": [
    {
      "cell_type": "code",
      "source": [
        "!apt install ffmpeg\n",
        "!pip install spleeter\n",
        "!pip install librosa\n",
        "!pip install pydub\n",
        "!pip install SpeechRecognition\n",
        "import speech_recognition as sr\n",
        "from pydub import AudioSegment\n",
        "import numpy as np\n",
        "import csv\n",
        "import librosa"
      ],
      "metadata": {
        "id": "v_RTtO5qAJoY"
      },
      "execution_count": null,
      "outputs": []
    },
    {
      "cell_type": "code",
      "source": [
        "!spleeter separate /content/vocals.wav-o output/ # dont run"
      ],
      "metadata": {
        "id": "XKkH5l--XBMo"
      },
      "execution_count": null,
      "outputs": []
    },
    {
      "cell_type": "code",
      "source": [
        "from google.colab import drive\n",
        "drive.mount('/content/drive')"
      ],
      "metadata": {
        "id": "fgja5qeO6C_v",
        "colab": {
          "base_uri": "https://localhost:8080/"
        },
        "outputId": "78c08916-7402-4655-b29e-a8ff00f719a2"
      },
      "execution_count": null,
      "outputs": [
        {
          "output_type": "stream",
          "name": "stdout",
          "text": [
            "Mounted at /content/drive\n"
          ]
        }
      ]
    },
    {
      "cell_type": "code",
      "source": [
        "# Load the audio file (replace 'audio_file_path' with the actual path)\n",
        "audio_file_path = '/content/drive/MyDrive/Project Sample audio/Aj Jane.wav'\n",
        "audio = AudioSegment.from_file(audio_file_path, format=\"wav\")"
      ],
      "metadata": {
        "id": "Qk45CXMeA5rA"
      },
      "execution_count": null,
      "outputs": []
    },
    {
      "cell_type": "code",
      "source": [
        "import speech_recognition as sr\n",
        "# Perform speech recognition using the SpeechRecognition library\n",
        "recognizer = sr.Recognizer()\n",
        "with sr.AudioFile(audio_file_path) as source:\n",
        "    audio_data = recognizer.record(source)\n",
        "\n",
        "text = recognizer.recognize_google(audio_data, language='hi-IN')"
      ],
      "metadata": {
        "id": "cRTp7p5FA99y"
      },
      "execution_count": null,
      "outputs": []
    },
    {
      "cell_type": "code",
      "source": [
        "# Split the recognized text into words\n",
        "words = text.split()\n",
        "\n",
        "num_words=len(words) # having the number of data\n"
      ],
      "metadata": {
        "id": "j0wTvdMCBUCs"
      },
      "execution_count": null,
      "outputs": []
    },
    {
      "cell_type": "code",
      "source": [
        "# Calculate word timestamps as before\n",
        "word_duration = len(audio) / len(words)\n",
        "timestamps = [] #list\n",
        "for i, word in enumerate(words):\n",
        "    start_time = i * word_duration\n",
        "    end_time = (i + 1) * word_duration\n",
        "    timestamps.append((word, start_time, end_time))\n",
        "\n",
        "# timestamps(words, start_time, end_time)"
      ],
      "metadata": {
        "id": "2xOiv35UBYIN"
      },
      "execution_count": null,
      "outputs": []
    },
    {
      "cell_type": "code",
      "source": [
        "print(timestamps)"
      ],
      "metadata": {
        "id": "MFKDt7dCFC52"
      },
      "execution_count": null,
      "outputs": []
    },
    {
      "cell_type": "code",
      "source": [
        "# Calculate the fundamental frequency (pitch) of each word\n",
        "word_pitch = {}\n",
        "for word, start, end in timestamps:\n",
        "    word_audio = audio[int(start):int(end)]\n",
        "    y, sr = librosa.load(word_audio.export(format=\"wav\"), sr=None)\n",
        "    pitches, magnitudes = librosa.piptrack(y=y, sr=sr)\n",
        "    # Extract the pitch (frequency) information\n",
        "    pitch = np.mean(pitches)\n",
        "    word_pitch[word] = pitch"
      ],
      "metadata": {
        "id": "devmgMIjGy0F"
      },
      "execution_count": null,
      "outputs": []
    },
    {
      "cell_type": "code",
      "source": [
        "word_pitch"
      ],
      "metadata": {
        "id": "789hqgkihS4w"
      },
      "execution_count": null,
      "outputs": []
    },
    {
      "cell_type": "code",
      "source": [
        "\n",
        "# Convert pitch (frequency) into corresponding musical notes\n",
        "def frequency_to_note_name(frequency):\n",
        "    if frequency <= 0:\n",
        "        return \"Unknown\"\n",
        "    n = 12 * (np.log2(frequency / 440)) + 49\n",
        "    note_names = [\"C\", \"C#\", \"D\", \"D#\", \"E\", \"F\", \"F#\", \"G\", \"G#\", \"A\", \"A#\", \"B\"]\n",
        "    #octave = int(n // 12)\n",
        "    note = int(n % 12)\n",
        "    return f\"{note_names[note]}\"#{octave}\"\n",
        "\n"
      ],
      "metadata": {
        "id": "AwJHco1kBcPj"
      },
      "execution_count": null,
      "outputs": []
    },
    {
      "cell_type": "code",
      "source": [
        "#difference between notes\n",
        "\n",
        "def note_diff(initial_index,final_index):\n",
        "    note_names = [\"C\", \"C#\", \"D\", \"D#\", \"E\", \"F\", \"F#\", \"G\", \"G#\", \"A\", \"A#\", \"B\"]\n",
        "    initial_index = note_names.index(initial_index)\n",
        "    final_index = note_names.index(final_index)\n",
        "    if final_index >= initial_index:\n",
        "        distance = final_index - initial_index\n",
        "    else:\n",
        "        distance = len(note_names) + final_index - initial_index\n",
        "    return distance\n"
      ],
      "metadata": {
        "id": "bCpT6ftZsYG6"
      },
      "execution_count": null,
      "outputs": []
    },
    {
      "cell_type": "code",
      "source": [
        "headers = [\"Pid\", \"Words\", \"s_time\", \"e_time\", \"time\", \"Note\", \"Note_diff\"]"
      ],
      "metadata": {
        "id": "7FGJKefgBeie"
      },
      "execution_count": null,
      "outputs": []
    },
    {
      "cell_type": "code",
      "source": [
        "# Print estimated timestamps, exact frequency, and corresponding musical notes\n",
        "print(\"Estimated Word Timestamps, Frequencies, and Musical Notes:\")\n",
        "previous_note = None  # Initialize the previous note as None\n",
        "for word, start, end in timestamps:\n",
        "    pitch = word_pitch[word]\n",
        "    note = frequency_to_note_name(pitch)\n",
        "    diff = note_diff(previous_note, note) if previous_note else 0  # Calculate note difference\n",
        "    previous_note = note  # Update the previous note\n",
        "    print(f\"Word: {word} | Start Time: {start} ms | End Time: {end} ms | Pitch (Frequency): {pitch:.2f} Hz | Note: {note} | Note_diff: {diff}\")"
      ],
      "metadata": {
        "id": "djm1U_Znftni"
      },
      "execution_count": null,
      "outputs": []
    },
    {
      "cell_type": "code",
      "source": [
        "# Write data to the CSV file\n",
        "with open(\"musical_data.csv\", \"w\", newline=\"\", encoding=\"utf-8\") as csvfile:\n",
        "    writer = csv.DictWriter(csvfile, fieldnames=headers)\n",
        "    writer.writeheader()\n",
        "\n",
        "    pid = 1  # Initialize a PID (Process ID) counter\n",
        "    previous_note = None  # Initialize the previous note as None\n",
        "    for word, start, end in timestamps:\n",
        "        pitch = word_pitch[word]\n",
        "        note = frequency_to_note_name(pitch)\n",
        "        diff = note_diff(previous_note, note) if previous_note else 0  # Calculate note difference\n",
        "        previous_note = note  # Update the previous note\n",
        "        writer.writerow({\n",
        "            \"Pid\": pid,\n",
        "            \"Words\": word,\n",
        "            \"s_time\": start,\n",
        "            \"e_time\": end,\n",
        "            \"time\": end - start,\n",
        "            \"Note\": note,\n",
        "            \"Note_diff\": diff\n",
        "        })\n",
        "\n",
        "        pid += 1"
      ],
      "metadata": {
        "id": "dZ5NVPHQSpy-"
      },
      "execution_count": null,
      "outputs": []
    },
    {
      "cell_type": "code",
      "source": [
        "import pandas as pd\n",
        "\n",
        "csvFile = pd.read_csv('musical_data.csv')"
      ],
      "metadata": {
        "id": "iVumAwW865j4"
      },
      "execution_count": null,
      "outputs": []
    },
    {
      "cell_type": "code",
      "source": [
        "print(csvfile)"
      ],
      "metadata": {
        "id": "eLY6WWIm_wQN"
      },
      "execution_count": null,
      "outputs": []
    },
    {
      "cell_type": "code",
      "source": [
        "from google.colab import files\n",
        "\n",
        "files.download('musical_data.csv')"
      ],
      "metadata": {
        "id": "e1YFWAVAyroM",
        "colab": {
          "base_uri": "https://localhost:8080/",
          "height": 17
        },
        "outputId": "65d40ad7-f037-415e-f649-ca12a77882fc"
      },
      "execution_count": null,
      "outputs": [
        {
          "output_type": "display_data",
          "data": {
            "text/plain": [
              "<IPython.core.display.Javascript object>"
            ],
            "application/javascript": [
              "\n",
              "    async function download(id, filename, size) {\n",
              "      if (!google.colab.kernel.accessAllowed) {\n",
              "        return;\n",
              "      }\n",
              "      const div = document.createElement('div');\n",
              "      const label = document.createElement('label');\n",
              "      label.textContent = `Downloading \"${filename}\": `;\n",
              "      div.appendChild(label);\n",
              "      const progress = document.createElement('progress');\n",
              "      progress.max = size;\n",
              "      div.appendChild(progress);\n",
              "      document.body.appendChild(div);\n",
              "\n",
              "      const buffers = [];\n",
              "      let downloaded = 0;\n",
              "\n",
              "      const channel = await google.colab.kernel.comms.open(id);\n",
              "      // Send a message to notify the kernel that we're ready.\n",
              "      channel.send({})\n",
              "\n",
              "      for await (const message of channel.messages) {\n",
              "        // Send a message to notify the kernel that we're ready.\n",
              "        channel.send({})\n",
              "        if (message.buffers) {\n",
              "          for (const buffer of message.buffers) {\n",
              "            buffers.push(buffer);\n",
              "            downloaded += buffer.byteLength;\n",
              "            progress.value = downloaded;\n",
              "          }\n",
              "        }\n",
              "      }\n",
              "      const blob = new Blob(buffers, {type: 'application/binary'});\n",
              "      const a = document.createElement('a');\n",
              "      a.href = window.URL.createObjectURL(blob);\n",
              "      a.download = filename;\n",
              "      div.appendChild(a);\n",
              "      a.click();\n",
              "      div.remove();\n",
              "    }\n",
              "  "
            ]
          },
          "metadata": {}
        },
        {
          "output_type": "display_data",
          "data": {
            "text/plain": [
              "<IPython.core.display.Javascript object>"
            ],
            "application/javascript": [
              "download(\"download_44e614a3-5a99-439e-a0b4-217cebf21b85\", \"musical_data.csv\", 2174)"
            ]
          },
          "metadata": {}
        }
      ]
    }
  ]
}